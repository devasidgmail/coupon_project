{
 "cells": [
  {
   "cell_type": "markdown",
   "metadata": {
    "id": "CcUT6Fon_qRE"
   },
   "source": [
    "### Required Assignment 5.1: Will the Customer Accept the Coupon?\n",
    "\n",
    "**Context**\n",
    "\n",
    "Imagine driving through town and a coupon is delivered to your cell phone for a restaurant near where you are driving. Would you accept that coupon and take a short detour to the restaurant? Would you accept the coupon but use it on a subsequent trip? Would you ignore the coupon entirely? What if the coupon was for a bar instead of a restaurant? What about a coffee house? Would you accept a bar coupon with a minor passenger in the car? What about if it was just you and your partner in the car? Would weather impact the rate of acceptance? What about the time of day?\n",
    "\n",
    "Obviously, proximity to the business is a factor on whether the coupon is delivered to the driver or not, but what are the factors that determine whether a driver accepts the coupon once it is delivered to them? How would you determine whether a driver is likely to accept a coupon?\n",
    "\n",
    "**Overview**\n",
    "\n",
    "The goal of this project is to use what you know about visualizations and probability distributions to distinguish between customers who accepted a driving coupon versus those that did not.\n",
    "\n",
    "**Data**\n",
    "\n",
    "This data comes to us from the UCI Machine Learning repository and was collected via a survey on Amazon Mechanical Turk. The survey describes different driving scenarios including the destination, current time, weather, passenger, etc., and then ask the person whether he will accept the coupon if he is the driver. Answers that the user will drive there ‘right away’ or ‘later before the coupon expires’ are labeled as ‘Y = 1’ and answers ‘no, I do not want the coupon’ are labeled as ‘Y = 0’.  There are five different types of coupons -- less expensive restaurants (under \\$20), coffee houses, carry out & take away, bar, and more expensive restaurants (\\$20 - $50)."
   ]
  },
  {
   "cell_type": "markdown",
   "metadata": {
    "id": "1wORvMBJ_qRF"
   },
   "source": [
    "**Deliverables**\n",
    "\n",
    "Your final product should be a brief report that highlights the differences between customers who did and did not accept the coupons.  To explore the data you will utilize your knowledge of plotting, statistical summaries, and visualization using Python. You will publish your findings in a public facing github repository as your first portfolio piece.\n",
    "\n",
    "\n",
    "\n"
   ]
  },
  {
   "cell_type": "markdown",
   "metadata": {
    "id": "pG6_Ym6q_qRG"
   },
   "source": [
    "### Data Description\n",
    "Keep in mind that these values mentioned below are average values.\n",
    "\n",
    "The attributes of this data set include:\n",
    "1. User attributes\n",
    "    -  Gender: male, female\n",
    "    -  Age: below 21, 21 to 25, 26 to 30, etc.\n",
    "    -  Marital Status: single, married partner, unmarried partner, or widowed\n",
    "    -  Number of children: 0, 1, or more than 1\n",
    "    -  Education: high school, bachelors degree, associates degree, or graduate degree\n",
    "    -  Occupation: architecture & engineering, business & financial, etc.\n",
    "    -  Annual income: less than \\\\$12500, \\\\$12500 - \\\\$24999, \\\\$25000 - \\\\$37499, etc.\n",
    "    -  Number of times that he/she goes to a bar: 0, less than 1, 1 to 3, 4 to 8 or greater than 8\n",
    "    -  Number of times that he/she buys takeaway food: 0, less than 1, 1 to 3, 4 to 8 or greater\n",
    "    than 8\n",
    "    -  Number of times that he/she goes to a coffee house: 0, less than 1, 1 to 3, 4 to 8 or\n",
    "    greater than 8\n",
    "    -  Number of times that he/she eats at a restaurant with average expense less than \\\\$20 per\n",
    "    person: 0, less than 1, 1 to 3, 4 to 8 or greater than 8\n",
    "    -  Number of times that he/she goes to a bar: 0, less than 1, 1 to 3, 4 to 8 or greater than 8\n",
    "    \n",
    "\n",
    "2. Contextual attributes\n",
    "    - Driving destination: home, work, or no urgent destination\n",
    "    - Location of user, coupon and destination: we provide a map to show the geographical\n",
    "    location of the user, destination, and the venue, and we mark the distance between each\n",
    "    two places with time of driving. The user can see whether the venue is in the same\n",
    "    direction as the destination.\n",
    "    - Weather: sunny, rainy, or snowy\n",
    "    - Temperature: 30F, 55F, or 80F\n",
    "    - Time: 10AM, 2PM, or 6PM\n",
    "    - Passenger: alone, partner, kid(s), or friend(s)\n",
    "\n",
    "\n",
    "3. Coupon attributes\n",
    "    - time before it expires: 2 hours or one day"
   ]
  },
  {
   "cell_type": "code",
   "execution_count": 17,
   "metadata": {
    "id": "dzNoP3o__qRG"
   },
   "outputs": [],
   "source": [
    "import matplotlib.pyplot as plt\n",
    "import seaborn as sns\n",
    "import pandas as pd\n",
    "import numpy as np"
   ]
  },
  {
   "cell_type": "markdown",
   "metadata": {
    "id": "Ct8pI1uE_qRG"
   },
   "source": [
    "### Problems\n",
    "\n",
    "Use the prompts below to get started with your data analysis.  \n",
    "\n",
    "1. Read in the `coupons.csv` file.\n",
    "\n",
    "\n"
   ]
  },
  {
   "cell_type": "code",
   "execution_count": 18,
   "metadata": {
    "id": "X0vbffYg_qRH"
   },
   "outputs": [],
   "source": [
    "data = pd.read_csv('data/coupons.csv')"
   ]
  },
  {
   "cell_type": "code",
   "execution_count": 19,
   "metadata": {
    "id": "TXofQ_DF_qRH",
    "outputId": "2fc96a2c-1112-4b54-f24f-dbb9bc88abfb"
   },
   "outputs": [
    {
     "data": {
      "text/html": [
       "<div>\n",
       "<style scoped>\n",
       "    .dataframe tbody tr th:only-of-type {\n",
       "        vertical-align: middle;\n",
       "    }\n",
       "\n",
       "    .dataframe tbody tr th {\n",
       "        vertical-align: top;\n",
       "    }\n",
       "\n",
       "    .dataframe thead th {\n",
       "        text-align: right;\n",
       "    }\n",
       "</style>\n",
       "<table border=\"1\" class=\"dataframe\">\n",
       "  <thead>\n",
       "    <tr style=\"text-align: right;\">\n",
       "      <th></th>\n",
       "      <th>destination</th>\n",
       "      <th>passanger</th>\n",
       "      <th>weather</th>\n",
       "      <th>temperature</th>\n",
       "      <th>time</th>\n",
       "      <th>coupon</th>\n",
       "      <th>expiration</th>\n",
       "      <th>gender</th>\n",
       "      <th>age</th>\n",
       "      <th>maritalStatus</th>\n",
       "      <th>has_children</th>\n",
       "      <th>education</th>\n",
       "      <th>occupation</th>\n",
       "      <th>income</th>\n",
       "      <th>car</th>\n",
       "      <th>Bar</th>\n",
       "      <th>CoffeeHouse</th>\n",
       "      <th>CarryAway</th>\n",
       "      <th>RestaurantLessThan20</th>\n",
       "      <th>Restaurant20To50</th>\n",
       "      <th>toCoupon_GEQ5min</th>\n",
       "      <th>toCoupon_GEQ15min</th>\n",
       "      <th>toCoupon_GEQ25min</th>\n",
       "      <th>direction_same</th>\n",
       "      <th>direction_opp</th>\n",
       "      <th>Y</th>\n",
       "    </tr>\n",
       "  </thead>\n",
       "  <tbody>\n",
       "    <tr>\n",
       "      <th>7617</th>\n",
       "      <td>Work</td>\n",
       "      <td>Alone</td>\n",
       "      <td>Rainy</td>\n",
       "      <td>55</td>\n",
       "      <td>7AM</td>\n",
       "      <td>Restaurant(&lt;20)</td>\n",
       "      <td>2h</td>\n",
       "      <td>Female</td>\n",
       "      <td>36</td>\n",
       "      <td>Unmarried partner</td>\n",
       "      <td>1</td>\n",
       "      <td>Some college - no degree</td>\n",
       "      <td>Computer &amp; Mathematical</td>\n",
       "      <td>$12500 - $24999</td>\n",
       "      <td>NaN</td>\n",
       "      <td>never</td>\n",
       "      <td>1~3</td>\n",
       "      <td>less1</td>\n",
       "      <td>1~3</td>\n",
       "      <td>4~8</td>\n",
       "      <td>1</td>\n",
       "      <td>1</td>\n",
       "      <td>1</td>\n",
       "      <td>0</td>\n",
       "      <td>1</td>\n",
       "      <td>1</td>\n",
       "    </tr>\n",
       "    <tr>\n",
       "      <th>7288</th>\n",
       "      <td>No Urgent Place</td>\n",
       "      <td>Friend(s)</td>\n",
       "      <td>Rainy</td>\n",
       "      <td>55</td>\n",
       "      <td>10PM</td>\n",
       "      <td>Bar</td>\n",
       "      <td>2h</td>\n",
       "      <td>Male</td>\n",
       "      <td>26</td>\n",
       "      <td>Single</td>\n",
       "      <td>0</td>\n",
       "      <td>Bachelors degree</td>\n",
       "      <td>Sales &amp; Related</td>\n",
       "      <td>$75000 - $87499</td>\n",
       "      <td>NaN</td>\n",
       "      <td>never</td>\n",
       "      <td>never</td>\n",
       "      <td>less1</td>\n",
       "      <td>less1</td>\n",
       "      <td>less1</td>\n",
       "      <td>1</td>\n",
       "      <td>1</td>\n",
       "      <td>0</td>\n",
       "      <td>0</td>\n",
       "      <td>1</td>\n",
       "      <td>0</td>\n",
       "    </tr>\n",
       "    <tr>\n",
       "      <th>10074</th>\n",
       "      <td>Work</td>\n",
       "      <td>Alone</td>\n",
       "      <td>Rainy</td>\n",
       "      <td>55</td>\n",
       "      <td>7AM</td>\n",
       "      <td>Bar</td>\n",
       "      <td>1d</td>\n",
       "      <td>Female</td>\n",
       "      <td>50plus</td>\n",
       "      <td>Single</td>\n",
       "      <td>1</td>\n",
       "      <td>Some college - no degree</td>\n",
       "      <td>Unemployed</td>\n",
       "      <td>Less than $12500</td>\n",
       "      <td>NaN</td>\n",
       "      <td>never</td>\n",
       "      <td>1~3</td>\n",
       "      <td>less1</td>\n",
       "      <td>1~3</td>\n",
       "      <td>less1</td>\n",
       "      <td>1</td>\n",
       "      <td>1</td>\n",
       "      <td>1</td>\n",
       "      <td>0</td>\n",
       "      <td>1</td>\n",
       "      <td>0</td>\n",
       "    </tr>\n",
       "    <tr>\n",
       "      <th>1933</th>\n",
       "      <td>Home</td>\n",
       "      <td>Alone</td>\n",
       "      <td>Sunny</td>\n",
       "      <td>55</td>\n",
       "      <td>6PM</td>\n",
       "      <td>Restaurant(20-50)</td>\n",
       "      <td>1d</td>\n",
       "      <td>Female</td>\n",
       "      <td>31</td>\n",
       "      <td>Single</td>\n",
       "      <td>0</td>\n",
       "      <td>Bachelors degree</td>\n",
       "      <td>Transportation &amp; Material Moving</td>\n",
       "      <td>$25000 - $37499</td>\n",
       "      <td>NaN</td>\n",
       "      <td>less1</td>\n",
       "      <td>1~3</td>\n",
       "      <td>4~8</td>\n",
       "      <td>gt8</td>\n",
       "      <td>less1</td>\n",
       "      <td>1</td>\n",
       "      <td>1</td>\n",
       "      <td>0</td>\n",
       "      <td>0</td>\n",
       "      <td>1</td>\n",
       "      <td>1</td>\n",
       "    </tr>\n",
       "    <tr>\n",
       "      <th>4838</th>\n",
       "      <td>Home</td>\n",
       "      <td>Alone</td>\n",
       "      <td>Sunny</td>\n",
       "      <td>80</td>\n",
       "      <td>6PM</td>\n",
       "      <td>Coffee House</td>\n",
       "      <td>1d</td>\n",
       "      <td>Female</td>\n",
       "      <td>21</td>\n",
       "      <td>Single</td>\n",
       "      <td>0</td>\n",
       "      <td>Some college - no degree</td>\n",
       "      <td>Sales &amp; Related</td>\n",
       "      <td>$12500 - $24999</td>\n",
       "      <td>NaN</td>\n",
       "      <td>never</td>\n",
       "      <td>1~3</td>\n",
       "      <td>4~8</td>\n",
       "      <td>1~3</td>\n",
       "      <td>never</td>\n",
       "      <td>1</td>\n",
       "      <td>0</td>\n",
       "      <td>0</td>\n",
       "      <td>0</td>\n",
       "      <td>1</td>\n",
       "      <td>1</td>\n",
       "    </tr>\n",
       "  </tbody>\n",
       "</table>\n",
       "</div>"
      ],
      "text/plain": [
       "           destination  passanger weather  temperature  time  \\\n",
       "7617              Work      Alone   Rainy           55   7AM   \n",
       "7288   No Urgent Place  Friend(s)   Rainy           55  10PM   \n",
       "10074             Work      Alone   Rainy           55   7AM   \n",
       "1933              Home      Alone   Sunny           55   6PM   \n",
       "4838              Home      Alone   Sunny           80   6PM   \n",
       "\n",
       "                  coupon expiration  gender     age      maritalStatus  \\\n",
       "7617     Restaurant(<20)         2h  Female      36  Unmarried partner   \n",
       "7288                 Bar         2h    Male      26             Single   \n",
       "10074                Bar         1d  Female  50plus             Single   \n",
       "1933   Restaurant(20-50)         1d  Female      31             Single   \n",
       "4838        Coffee House         1d  Female      21             Single   \n",
       "\n",
       "       has_children                 education  \\\n",
       "7617              1  Some college - no degree   \n",
       "7288              0          Bachelors degree   \n",
       "10074             1  Some college - no degree   \n",
       "1933              0          Bachelors degree   \n",
       "4838              0  Some college - no degree   \n",
       "\n",
       "                             occupation            income  car    Bar  \\\n",
       "7617            Computer & Mathematical   $12500 - $24999  NaN  never   \n",
       "7288                    Sales & Related   $75000 - $87499  NaN  never   \n",
       "10074                        Unemployed  Less than $12500  NaN  never   \n",
       "1933   Transportation & Material Moving   $25000 - $37499  NaN  less1   \n",
       "4838                    Sales & Related   $12500 - $24999  NaN  never   \n",
       "\n",
       "      CoffeeHouse CarryAway RestaurantLessThan20 Restaurant20To50  \\\n",
       "7617          1~3     less1                  1~3              4~8   \n",
       "7288        never     less1                less1            less1   \n",
       "10074         1~3     less1                  1~3            less1   \n",
       "1933          1~3       4~8                  gt8            less1   \n",
       "4838          1~3       4~8                  1~3            never   \n",
       "\n",
       "       toCoupon_GEQ5min  toCoupon_GEQ15min  toCoupon_GEQ25min  direction_same  \\\n",
       "7617                  1                  1                  1               0   \n",
       "7288                  1                  1                  0               0   \n",
       "10074                 1                  1                  1               0   \n",
       "1933                  1                  1                  0               0   \n",
       "4838                  1                  0                  0               0   \n",
       "\n",
       "       direction_opp  Y  \n",
       "7617               1  1  \n",
       "7288               1  0  \n",
       "10074              1  0  \n",
       "1933               1  1  \n",
       "4838               1  1  "
      ]
     },
     "execution_count": 19,
     "metadata": {},
     "output_type": "execute_result"
    }
   ],
   "source": [
    "pd.set_option('display.max_columns', None) \n",
    "data.sample(5)"
   ]
  },
  {
   "cell_type": "markdown",
   "metadata": {
    "id": "GcDs78ZH_qRH"
   },
   "source": [
    "2. Investigate the dataset for missing or problematic data."
   ]
  },
  {
   "cell_type": "markdown",
   "metadata": {},
   "source": [
    "#### Initial investigation of dataSet "
   ]
  },
  {
   "cell_type": "code",
   "execution_count": 20,
   "metadata": {
    "id": "6CwL6oWj_qRH"
   },
   "outputs": [
    {
     "data": {
      "text/plain": [
       "(12684, 26)"
      ]
     },
     "execution_count": 20,
     "metadata": {},
     "output_type": "execute_result"
    }
   ],
   "source": [
    "#Finding the shape \n",
    "data.shape"
   ]
  },
  {
   "cell_type": "code",
   "execution_count": 21,
   "metadata": {},
   "outputs": [
    {
     "name": "stdout",
     "output_type": "stream",
     "text": [
      "<class 'pandas.core.frame.DataFrame'>\n",
      "RangeIndex: 12684 entries, 0 to 12683\n",
      "Data columns (total 26 columns):\n",
      " #   Column                Non-Null Count  Dtype \n",
      "---  ------                --------------  ----- \n",
      " 0   destination           12684 non-null  object\n",
      " 1   passanger             12684 non-null  object\n",
      " 2   weather               12684 non-null  object\n",
      " 3   temperature           12684 non-null  int64 \n",
      " 4   time                  12684 non-null  object\n",
      " 5   coupon                12684 non-null  object\n",
      " 6   expiration            12684 non-null  object\n",
      " 7   gender                12684 non-null  object\n",
      " 8   age                   12684 non-null  object\n",
      " 9   maritalStatus         12684 non-null  object\n",
      " 10  has_children          12684 non-null  int64 \n",
      " 11  education             12684 non-null  object\n",
      " 12  occupation            12684 non-null  object\n",
      " 13  income                12684 non-null  object\n",
      " 14  car                   108 non-null    object\n",
      " 15  Bar                   12577 non-null  object\n",
      " 16  CoffeeHouse           12467 non-null  object\n",
      " 17  CarryAway             12533 non-null  object\n",
      " 18  RestaurantLessThan20  12554 non-null  object\n",
      " 19  Restaurant20To50      12495 non-null  object\n",
      " 20  toCoupon_GEQ5min      12684 non-null  int64 \n",
      " 21  toCoupon_GEQ15min     12684 non-null  int64 \n",
      " 22  toCoupon_GEQ25min     12684 non-null  int64 \n",
      " 23  direction_same        12684 non-null  int64 \n",
      " 24  direction_opp         12684 non-null  int64 \n",
      " 25  Y                     12684 non-null  int64 \n",
      "dtypes: int64(8), object(18)\n",
      "memory usage: 2.5+ MB\n"
     ]
    }
   ],
   "source": [
    "#Finding column headers \n",
    "data.info()"
   ]
  },
  {
   "cell_type": "markdown",
   "metadata": {
    "scrolled": true
   },
   "source": [
    "##### Looking at the data"
   ]
  },
  {
   "cell_type": "code",
   "execution_count": 22,
   "metadata": {},
   "outputs": [
    {
     "data": {
      "text/html": [
       "<div>\n",
       "<style scoped>\n",
       "    .dataframe tbody tr th:only-of-type {\n",
       "        vertical-align: middle;\n",
       "    }\n",
       "\n",
       "    .dataframe tbody tr th {\n",
       "        vertical-align: top;\n",
       "    }\n",
       "\n",
       "    .dataframe thead th {\n",
       "        text-align: right;\n",
       "    }\n",
       "</style>\n",
       "<table border=\"1\" class=\"dataframe\">\n",
       "  <thead>\n",
       "    <tr style=\"text-align: right;\">\n",
       "      <th></th>\n",
       "      <th>destination</th>\n",
       "      <th>passanger</th>\n",
       "      <th>weather</th>\n",
       "      <th>temperature</th>\n",
       "      <th>time</th>\n",
       "      <th>coupon</th>\n",
       "      <th>expiration</th>\n",
       "      <th>gender</th>\n",
       "      <th>age</th>\n",
       "      <th>maritalStatus</th>\n",
       "      <th>has_children</th>\n",
       "      <th>education</th>\n",
       "      <th>occupation</th>\n",
       "      <th>income</th>\n",
       "      <th>car</th>\n",
       "      <th>Bar</th>\n",
       "      <th>CoffeeHouse</th>\n",
       "      <th>CarryAway</th>\n",
       "      <th>RestaurantLessThan20</th>\n",
       "      <th>Restaurant20To50</th>\n",
       "      <th>toCoupon_GEQ5min</th>\n",
       "      <th>toCoupon_GEQ15min</th>\n",
       "      <th>toCoupon_GEQ25min</th>\n",
       "      <th>direction_same</th>\n",
       "      <th>direction_opp</th>\n",
       "      <th>Y</th>\n",
       "    </tr>\n",
       "  </thead>\n",
       "  <tbody>\n",
       "    <tr>\n",
       "      <th>count</th>\n",
       "      <td>12684</td>\n",
       "      <td>12684</td>\n",
       "      <td>12684</td>\n",
       "      <td>12684.000000</td>\n",
       "      <td>12684</td>\n",
       "      <td>12684</td>\n",
       "      <td>12684</td>\n",
       "      <td>12684</td>\n",
       "      <td>12684</td>\n",
       "      <td>12684</td>\n",
       "      <td>12684.000000</td>\n",
       "      <td>12684</td>\n",
       "      <td>12684</td>\n",
       "      <td>12684</td>\n",
       "      <td>108</td>\n",
       "      <td>12577</td>\n",
       "      <td>12467</td>\n",
       "      <td>12533</td>\n",
       "      <td>12554</td>\n",
       "      <td>12495</td>\n",
       "      <td>12684.0</td>\n",
       "      <td>12684.000000</td>\n",
       "      <td>12684.000000</td>\n",
       "      <td>12684.000000</td>\n",
       "      <td>12684.000000</td>\n",
       "      <td>12684.000000</td>\n",
       "    </tr>\n",
       "    <tr>\n",
       "      <th>unique</th>\n",
       "      <td>3</td>\n",
       "      <td>4</td>\n",
       "      <td>3</td>\n",
       "      <td>NaN</td>\n",
       "      <td>5</td>\n",
       "      <td>5</td>\n",
       "      <td>2</td>\n",
       "      <td>2</td>\n",
       "      <td>8</td>\n",
       "      <td>5</td>\n",
       "      <td>NaN</td>\n",
       "      <td>6</td>\n",
       "      <td>25</td>\n",
       "      <td>9</td>\n",
       "      <td>5</td>\n",
       "      <td>5</td>\n",
       "      <td>5</td>\n",
       "      <td>5</td>\n",
       "      <td>5</td>\n",
       "      <td>5</td>\n",
       "      <td>NaN</td>\n",
       "      <td>NaN</td>\n",
       "      <td>NaN</td>\n",
       "      <td>NaN</td>\n",
       "      <td>NaN</td>\n",
       "      <td>NaN</td>\n",
       "    </tr>\n",
       "    <tr>\n",
       "      <th>top</th>\n",
       "      <td>No Urgent Place</td>\n",
       "      <td>Alone</td>\n",
       "      <td>Sunny</td>\n",
       "      <td>NaN</td>\n",
       "      <td>6PM</td>\n",
       "      <td>Coffee House</td>\n",
       "      <td>1d</td>\n",
       "      <td>Female</td>\n",
       "      <td>21</td>\n",
       "      <td>Married partner</td>\n",
       "      <td>NaN</td>\n",
       "      <td>Some college - no degree</td>\n",
       "      <td>Unemployed</td>\n",
       "      <td>$25000 - $37499</td>\n",
       "      <td>Scooter and motorcycle</td>\n",
       "      <td>never</td>\n",
       "      <td>less1</td>\n",
       "      <td>1~3</td>\n",
       "      <td>1~3</td>\n",
       "      <td>less1</td>\n",
       "      <td>NaN</td>\n",
       "      <td>NaN</td>\n",
       "      <td>NaN</td>\n",
       "      <td>NaN</td>\n",
       "      <td>NaN</td>\n",
       "      <td>NaN</td>\n",
       "    </tr>\n",
       "    <tr>\n",
       "      <th>freq</th>\n",
       "      <td>6283</td>\n",
       "      <td>7305</td>\n",
       "      <td>10069</td>\n",
       "      <td>NaN</td>\n",
       "      <td>3230</td>\n",
       "      <td>3996</td>\n",
       "      <td>7091</td>\n",
       "      <td>6511</td>\n",
       "      <td>2653</td>\n",
       "      <td>5100</td>\n",
       "      <td>NaN</td>\n",
       "      <td>4351</td>\n",
       "      <td>1870</td>\n",
       "      <td>2013</td>\n",
       "      <td>22</td>\n",
       "      <td>5197</td>\n",
       "      <td>3385</td>\n",
       "      <td>4672</td>\n",
       "      <td>5376</td>\n",
       "      <td>6077</td>\n",
       "      <td>NaN</td>\n",
       "      <td>NaN</td>\n",
       "      <td>NaN</td>\n",
       "      <td>NaN</td>\n",
       "      <td>NaN</td>\n",
       "      <td>NaN</td>\n",
       "    </tr>\n",
       "    <tr>\n",
       "      <th>mean</th>\n",
       "      <td>NaN</td>\n",
       "      <td>NaN</td>\n",
       "      <td>NaN</td>\n",
       "      <td>63.301798</td>\n",
       "      <td>NaN</td>\n",
       "      <td>NaN</td>\n",
       "      <td>NaN</td>\n",
       "      <td>NaN</td>\n",
       "      <td>NaN</td>\n",
       "      <td>NaN</td>\n",
       "      <td>0.414144</td>\n",
       "      <td>NaN</td>\n",
       "      <td>NaN</td>\n",
       "      <td>NaN</td>\n",
       "      <td>NaN</td>\n",
       "      <td>NaN</td>\n",
       "      <td>NaN</td>\n",
       "      <td>NaN</td>\n",
       "      <td>NaN</td>\n",
       "      <td>NaN</td>\n",
       "      <td>1.0</td>\n",
       "      <td>0.561495</td>\n",
       "      <td>0.119126</td>\n",
       "      <td>0.214759</td>\n",
       "      <td>0.785241</td>\n",
       "      <td>0.568433</td>\n",
       "    </tr>\n",
       "    <tr>\n",
       "      <th>std</th>\n",
       "      <td>NaN</td>\n",
       "      <td>NaN</td>\n",
       "      <td>NaN</td>\n",
       "      <td>19.154486</td>\n",
       "      <td>NaN</td>\n",
       "      <td>NaN</td>\n",
       "      <td>NaN</td>\n",
       "      <td>NaN</td>\n",
       "      <td>NaN</td>\n",
       "      <td>NaN</td>\n",
       "      <td>0.492593</td>\n",
       "      <td>NaN</td>\n",
       "      <td>NaN</td>\n",
       "      <td>NaN</td>\n",
       "      <td>NaN</td>\n",
       "      <td>NaN</td>\n",
       "      <td>NaN</td>\n",
       "      <td>NaN</td>\n",
       "      <td>NaN</td>\n",
       "      <td>NaN</td>\n",
       "      <td>0.0</td>\n",
       "      <td>0.496224</td>\n",
       "      <td>0.323950</td>\n",
       "      <td>0.410671</td>\n",
       "      <td>0.410671</td>\n",
       "      <td>0.495314</td>\n",
       "    </tr>\n",
       "    <tr>\n",
       "      <th>min</th>\n",
       "      <td>NaN</td>\n",
       "      <td>NaN</td>\n",
       "      <td>NaN</td>\n",
       "      <td>30.000000</td>\n",
       "      <td>NaN</td>\n",
       "      <td>NaN</td>\n",
       "      <td>NaN</td>\n",
       "      <td>NaN</td>\n",
       "      <td>NaN</td>\n",
       "      <td>NaN</td>\n",
       "      <td>0.000000</td>\n",
       "      <td>NaN</td>\n",
       "      <td>NaN</td>\n",
       "      <td>NaN</td>\n",
       "      <td>NaN</td>\n",
       "      <td>NaN</td>\n",
       "      <td>NaN</td>\n",
       "      <td>NaN</td>\n",
       "      <td>NaN</td>\n",
       "      <td>NaN</td>\n",
       "      <td>1.0</td>\n",
       "      <td>0.000000</td>\n",
       "      <td>0.000000</td>\n",
       "      <td>0.000000</td>\n",
       "      <td>0.000000</td>\n",
       "      <td>0.000000</td>\n",
       "    </tr>\n",
       "    <tr>\n",
       "      <th>25%</th>\n",
       "      <td>NaN</td>\n",
       "      <td>NaN</td>\n",
       "      <td>NaN</td>\n",
       "      <td>55.000000</td>\n",
       "      <td>NaN</td>\n",
       "      <td>NaN</td>\n",
       "      <td>NaN</td>\n",
       "      <td>NaN</td>\n",
       "      <td>NaN</td>\n",
       "      <td>NaN</td>\n",
       "      <td>0.000000</td>\n",
       "      <td>NaN</td>\n",
       "      <td>NaN</td>\n",
       "      <td>NaN</td>\n",
       "      <td>NaN</td>\n",
       "      <td>NaN</td>\n",
       "      <td>NaN</td>\n",
       "      <td>NaN</td>\n",
       "      <td>NaN</td>\n",
       "      <td>NaN</td>\n",
       "      <td>1.0</td>\n",
       "      <td>0.000000</td>\n",
       "      <td>0.000000</td>\n",
       "      <td>0.000000</td>\n",
       "      <td>1.000000</td>\n",
       "      <td>0.000000</td>\n",
       "    </tr>\n",
       "    <tr>\n",
       "      <th>50%</th>\n",
       "      <td>NaN</td>\n",
       "      <td>NaN</td>\n",
       "      <td>NaN</td>\n",
       "      <td>80.000000</td>\n",
       "      <td>NaN</td>\n",
       "      <td>NaN</td>\n",
       "      <td>NaN</td>\n",
       "      <td>NaN</td>\n",
       "      <td>NaN</td>\n",
       "      <td>NaN</td>\n",
       "      <td>0.000000</td>\n",
       "      <td>NaN</td>\n",
       "      <td>NaN</td>\n",
       "      <td>NaN</td>\n",
       "      <td>NaN</td>\n",
       "      <td>NaN</td>\n",
       "      <td>NaN</td>\n",
       "      <td>NaN</td>\n",
       "      <td>NaN</td>\n",
       "      <td>NaN</td>\n",
       "      <td>1.0</td>\n",
       "      <td>1.000000</td>\n",
       "      <td>0.000000</td>\n",
       "      <td>0.000000</td>\n",
       "      <td>1.000000</td>\n",
       "      <td>1.000000</td>\n",
       "    </tr>\n",
       "    <tr>\n",
       "      <th>75%</th>\n",
       "      <td>NaN</td>\n",
       "      <td>NaN</td>\n",
       "      <td>NaN</td>\n",
       "      <td>80.000000</td>\n",
       "      <td>NaN</td>\n",
       "      <td>NaN</td>\n",
       "      <td>NaN</td>\n",
       "      <td>NaN</td>\n",
       "      <td>NaN</td>\n",
       "      <td>NaN</td>\n",
       "      <td>1.000000</td>\n",
       "      <td>NaN</td>\n",
       "      <td>NaN</td>\n",
       "      <td>NaN</td>\n",
       "      <td>NaN</td>\n",
       "      <td>NaN</td>\n",
       "      <td>NaN</td>\n",
       "      <td>NaN</td>\n",
       "      <td>NaN</td>\n",
       "      <td>NaN</td>\n",
       "      <td>1.0</td>\n",
       "      <td>1.000000</td>\n",
       "      <td>0.000000</td>\n",
       "      <td>0.000000</td>\n",
       "      <td>1.000000</td>\n",
       "      <td>1.000000</td>\n",
       "    </tr>\n",
       "    <tr>\n",
       "      <th>max</th>\n",
       "      <td>NaN</td>\n",
       "      <td>NaN</td>\n",
       "      <td>NaN</td>\n",
       "      <td>80.000000</td>\n",
       "      <td>NaN</td>\n",
       "      <td>NaN</td>\n",
       "      <td>NaN</td>\n",
       "      <td>NaN</td>\n",
       "      <td>NaN</td>\n",
       "      <td>NaN</td>\n",
       "      <td>1.000000</td>\n",
       "      <td>NaN</td>\n",
       "      <td>NaN</td>\n",
       "      <td>NaN</td>\n",
       "      <td>NaN</td>\n",
       "      <td>NaN</td>\n",
       "      <td>NaN</td>\n",
       "      <td>NaN</td>\n",
       "      <td>NaN</td>\n",
       "      <td>NaN</td>\n",
       "      <td>1.0</td>\n",
       "      <td>1.000000</td>\n",
       "      <td>1.000000</td>\n",
       "      <td>1.000000</td>\n",
       "      <td>1.000000</td>\n",
       "      <td>1.000000</td>\n",
       "    </tr>\n",
       "  </tbody>\n",
       "</table>\n",
       "</div>"
      ],
      "text/plain": [
       "            destination passanger weather   temperature   time        coupon  \\\n",
       "count             12684     12684   12684  12684.000000  12684         12684   \n",
       "unique                3         4       3           NaN      5             5   \n",
       "top     No Urgent Place     Alone   Sunny           NaN    6PM  Coffee House   \n",
       "freq               6283      7305   10069           NaN   3230          3996   \n",
       "mean                NaN       NaN     NaN     63.301798    NaN           NaN   \n",
       "std                 NaN       NaN     NaN     19.154486    NaN           NaN   \n",
       "min                 NaN       NaN     NaN     30.000000    NaN           NaN   \n",
       "25%                 NaN       NaN     NaN     55.000000    NaN           NaN   \n",
       "50%                 NaN       NaN     NaN     80.000000    NaN           NaN   \n",
       "75%                 NaN       NaN     NaN     80.000000    NaN           NaN   \n",
       "max                 NaN       NaN     NaN     80.000000    NaN           NaN   \n",
       "\n",
       "       expiration  gender    age    maritalStatus  has_children  \\\n",
       "count       12684   12684  12684            12684  12684.000000   \n",
       "unique          2       2      8                5           NaN   \n",
       "top            1d  Female     21  Married partner           NaN   \n",
       "freq         7091    6511   2653             5100           NaN   \n",
       "mean          NaN     NaN    NaN              NaN      0.414144   \n",
       "std           NaN     NaN    NaN              NaN      0.492593   \n",
       "min           NaN     NaN    NaN              NaN      0.000000   \n",
       "25%           NaN     NaN    NaN              NaN      0.000000   \n",
       "50%           NaN     NaN    NaN              NaN      0.000000   \n",
       "75%           NaN     NaN    NaN              NaN      1.000000   \n",
       "max           NaN     NaN    NaN              NaN      1.000000   \n",
       "\n",
       "                       education  occupation           income  \\\n",
       "count                      12684       12684            12684   \n",
       "unique                         6          25                9   \n",
       "top     Some college - no degree  Unemployed  $25000 - $37499   \n",
       "freq                        4351        1870             2013   \n",
       "mean                         NaN         NaN              NaN   \n",
       "std                          NaN         NaN              NaN   \n",
       "min                          NaN         NaN              NaN   \n",
       "25%                          NaN         NaN              NaN   \n",
       "50%                          NaN         NaN              NaN   \n",
       "75%                          NaN         NaN              NaN   \n",
       "max                          NaN         NaN              NaN   \n",
       "\n",
       "                           car    Bar CoffeeHouse CarryAway  \\\n",
       "count                      108  12577       12467     12533   \n",
       "unique                       5      5           5         5   \n",
       "top     Scooter and motorcycle  never       less1       1~3   \n",
       "freq                        22   5197        3385      4672   \n",
       "mean                       NaN    NaN         NaN       NaN   \n",
       "std                        NaN    NaN         NaN       NaN   \n",
       "min                        NaN    NaN         NaN       NaN   \n",
       "25%                        NaN    NaN         NaN       NaN   \n",
       "50%                        NaN    NaN         NaN       NaN   \n",
       "75%                        NaN    NaN         NaN       NaN   \n",
       "max                        NaN    NaN         NaN       NaN   \n",
       "\n",
       "       RestaurantLessThan20 Restaurant20To50  toCoupon_GEQ5min  \\\n",
       "count                 12554            12495           12684.0   \n",
       "unique                    5                5               NaN   \n",
       "top                     1~3            less1               NaN   \n",
       "freq                   5376             6077               NaN   \n",
       "mean                    NaN              NaN               1.0   \n",
       "std                     NaN              NaN               0.0   \n",
       "min                     NaN              NaN               1.0   \n",
       "25%                     NaN              NaN               1.0   \n",
       "50%                     NaN              NaN               1.0   \n",
       "75%                     NaN              NaN               1.0   \n",
       "max                     NaN              NaN               1.0   \n",
       "\n",
       "        toCoupon_GEQ15min  toCoupon_GEQ25min  direction_same  direction_opp  \\\n",
       "count        12684.000000       12684.000000    12684.000000   12684.000000   \n",
       "unique                NaN                NaN             NaN            NaN   \n",
       "top                   NaN                NaN             NaN            NaN   \n",
       "freq                  NaN                NaN             NaN            NaN   \n",
       "mean             0.561495           0.119126        0.214759       0.785241   \n",
       "std              0.496224           0.323950        0.410671       0.410671   \n",
       "min              0.000000           0.000000        0.000000       0.000000   \n",
       "25%              0.000000           0.000000        0.000000       1.000000   \n",
       "50%              1.000000           0.000000        0.000000       1.000000   \n",
       "75%              1.000000           0.000000        0.000000       1.000000   \n",
       "max              1.000000           1.000000        1.000000       1.000000   \n",
       "\n",
       "                   Y  \n",
       "count   12684.000000  \n",
       "unique           NaN  \n",
       "top              NaN  \n",
       "freq             NaN  \n",
       "mean        0.568433  \n",
       "std         0.495314  \n",
       "min         0.000000  \n",
       "25%         0.000000  \n",
       "50%         1.000000  \n",
       "75%         1.000000  \n",
       "max         1.000000  "
      ]
     },
     "execution_count": 22,
     "metadata": {},
     "output_type": "execute_result"
    }
   ],
   "source": [
    "#data[data.duplicated()]\n",
    "#data.duplicated().sum()\n",
    "data.describe(include='all')"
   ]
  },
  {
   "cell_type": "code",
   "execution_count": 23,
   "metadata": {},
   "outputs": [
    {
     "data": {
      "text/plain": [
       "destination                 0\n",
       "passanger                   0\n",
       "weather                     0\n",
       "temperature                 0\n",
       "time                        0\n",
       "coupon                      0\n",
       "expiration                  0\n",
       "gender                      0\n",
       "age                         0\n",
       "maritalStatus               0\n",
       "has_children                0\n",
       "education                   0\n",
       "occupation                  0\n",
       "income                      0\n",
       "car                     12576\n",
       "Bar                       107\n",
       "CoffeeHouse               217\n",
       "CarryAway                 151\n",
       "RestaurantLessThan20      130\n",
       "Restaurant20To50          189\n",
       "toCoupon_GEQ5min            0\n",
       "toCoupon_GEQ15min           0\n",
       "toCoupon_GEQ25min           0\n",
       "direction_same              0\n",
       "direction_opp               0\n",
       "Y                           0\n",
       "dtype: int64"
      ]
     },
     "execution_count": 23,
     "metadata": {},
     "output_type": "execute_result"
    }
   ],
   "source": [
    "# Which columns have the most missing data. \n",
    "data.isnull().sum()"
   ]
  },
  {
   "cell_type": "markdown",
   "metadata": {
    "id": "tyvoAC5F_qRI"
   },
   "source": [
    "#### The car column has the most missing data. Let us find out what are all the unique values in the car column. "
   ]
  },
  {
   "cell_type": "markdown",
   "metadata": {
    "id": "bSdVSpYB_qRH"
   },
   "source": [
    "3. Decide what to do about your missing data -- drop, replace, other..."
   ]
  },
  {
   "cell_type": "code",
   "execution_count": 24,
   "metadata": {
    "id": "tyvoAC5F_qRI"
   },
   "outputs": [
    {
     "data": {
      "text/plain": [
       "array([nan, 'Scooter and motorcycle', 'crossover', 'Mazda5',\n",
       "       'do not drive', 'Car that is too old to install Onstar :D'],\n",
       "      dtype=object)"
      ]
     },
     "execution_count": 24,
     "metadata": {},
     "output_type": "execute_result"
    }
   ],
   "source": [
    "data['car'].unique()\n",
    "#data['income'].unique()"
   ]
  },
  {
   "cell_type": "markdown",
   "metadata": {},
   "source": [
    "#### Cleaning up data\n",
    "##### The values in the car column must be replaced appropriately to clean up the data. \n",
    "1. nan = no\n",
    "2. Scooter and motorcycle = yes\n",
    "3. crossover = yes\n",
    "4. Mazda5 = yes\n",
    "5. do not drive = no\n",
    "6. Car is too ...  = no\n",
    "\n",
    "We can drop the remaining rows which have a null values in them. \n",
    "Let us also create a new dataframe with the cleaned up data. \n"
   ]
  },
  {
   "cell_type": "code",
   "execution_count": 25,
   "metadata": {},
   "outputs": [],
   "source": [
    "cleanData = data \n",
    "cleanData['car']=cleanData['car'].fillna(value='no')\n",
    "#cleanData.sample(10)\n",
    "cleanData = cleanData.replace({'car' : {'Scooter and motorcycle' : 'yes', 'crossover' : 'yes', 'Mazda5' : 'yes','do not drive' : 'no', 'Car that is too old to install Onstar :D' : 'no'}})\n",
    "cleanData['car'].unique()\n",
    "cleanData = cleanData.dropna()\n",
    "#cleanData.shape"
   ]
  },
  {
   "cell_type": "code",
   "execution_count": 26,
   "metadata": {},
   "outputs": [
    {
     "name": "stdout",
     "output_type": "stream",
     "text": [
      "Lost 605 rows during cleaning.\n",
      "Data loss: 4.77%\n"
     ]
    }
   ],
   "source": [
    "###### After the clean up , we have 12079 rows of data. We initally had 12684 rows of data. \n",
    "rows_lost = len(data) - len(cleanData)\n",
    "print(f\"Lost {rows_lost} rows during cleaning.\")\n",
    "\n",
    "pct_lost = (rows_lost / len(data)) * 100\n",
    "print(f\"Data loss: {pct_lost:.2f}%\")\n"
   ]
  },
  {
   "cell_type": "markdown",
   "metadata": {},
   "source": [
    "#### Due to the clean-up , 605 rows of data , i.e  4.77 % of data was lost. "
   ]
  },
  {
   "cell_type": "markdown",
   "metadata": {
    "id": "YE6oJbXd_qRI"
   },
   "source": [
    "4. What proportion of the total observations chose to accept the coupon?\n",
    "\n"
   ]
  },
  {
   "cell_type": "code",
   "execution_count": 27,
   "metadata": {
    "id": "86GGqBTv_qRI"
   },
   "outputs": [
    {
     "name": "stdout",
     "output_type": "stream",
     "text": [
      "Coupon Acceptance rate = 56.93 %\n"
     ]
    }
   ],
   "source": [
    "accepted_count = (cleanData['Y'] == 1).sum()\n",
    "offered_count = cleanData['Y'].count()\n",
    "accepted_percentage = cleanData['Y'].mean() * 100 \n",
    "accepted_percentage = round(float(accepted_percentage) ,2)\n",
    "print(\"Coupon Acceptance rate =\" , accepted_percentage ,\"%\")"
   ]
  },
  {
   "cell_type": "markdown",
   "metadata": {
    "id": "vflz0DoE_qRI"
   },
   "source": [
    "5. Use a bar plot to visualize the `coupon` column."
   ]
  },
  {
   "cell_type": "code",
   "execution_count": 28,
   "metadata": {
    "id": "dHFh3E45_qRI"
   },
   "outputs": [
    {
     "data": {
      "text/plain": [
       "coupon\n",
       "Coffee House             3816\n",
       "Restaurant(<20)          2653\n",
       "Carry out & Take away    2280\n",
       "Bar                      1913\n",
       "Restaurant(20-50)        1417\n",
       "Name: count, dtype: int64"
      ]
     },
     "execution_count": 28,
     "metadata": {},
     "output_type": "execute_result"
    }
   ],
   "source": [
    "# Contents of the \"coupon\" column. \n",
    "cleanData['coupon'].value_counts()"
   ]
  },
  {
   "cell_type": "code",
   "execution_count": 29,
   "metadata": {},
   "outputs": [
    {
     "data": {
      "image/png": "[encoded data removed]",
      "text/plain": [
       "<Figure size 640x480 with 1 Axes>"
      ]
     },
     "metadata": {},
     "output_type": "display_data"
    }
   ],
   "source": [
    "#plt.figure(figsize=(10,5))\n",
    "ax = sns.countplot(y='coupon', data=cleanData, order=cleanData['coupon'].value_counts().index , palette='viridis' , hue = 'coupon')\n",
    "plt.title('Distribution of Coupon Types')\n",
    "plt.xlabel('Count')\n",
    "plt.ylabel('Coupon Type')\n",
    "for container in ax.containers:\n",
    "    ax.bar_label(container, fmt='%d', label_type='edge', padding=3)\n",
    "plt.savefig(\"pictures/disTypes.png\")\n",
    "plt.show()\n"
   ]
  },
  {
   "cell_type": "code",
   "execution_count": 30,
   "metadata": {},
   "outputs": [
    {
     "data": {
      "image/png": "[encoded data removed]",
      "text/plain": [
       "<Figure size 640x480 with 1 Axes>"
      ]
     },
     "metadata": {},
     "output_type": "display_data"
    }
   ],
   "source": [
    "# Coupon acceptance by Age\n",
    "\n",
    "acceptance_counts = cleanData.groupby('age')['Y'].sum()\n",
    "\n",
    "# Generate labels and sizes from the grouped data\n",
    "labels = acceptance_counts.index\n",
    "sizes = acceptance_counts.values\n",
    "\n",
    "fig, ax = plt.subplots()\n",
    "ax.pie(sizes, labels=labels, autopct='%.1f%%', startangle=90)\n",
    "ax.axis('equal')  # Equal aspect ratio ensures pie chart is circular\n",
    "plt.title('Acceptance by Age')\n",
    "plt.savefig('pictures/coupByAge.png')\n",
    "plt.show()\n"
   ]
  },
  {
   "cell_type": "code",
   "execution_count": 31,
   "metadata": {
    "id": "fTC2WGE3_qRL"
   },
   "outputs": [
    {
     "data": {
      "image/png": "[encoded data removed]",
      "text/plain": [
       "<Figure size 640x480 with 1 Axes>"
      ]
     },
     "metadata": {},
     "output_type": "display_data"
    }
   ],
   "source": [
    "# Coupon acceptance by Age\n",
    "ax = sns.barplot(y='income', x='Y', hue = \"income\" , data=cleanData , palette='Set2' , errorbar = None   )\n",
    "ax.set_ylabel('Income Groups')\n",
    "ax.set_xlabel('Acceptance Rate')\n",
    "ax.set_title('Coupon Acceptance by Income')\n",
    "plt.savefig('pictures/coupByIncome.png')\n",
    "plt.show()\n"
   ]
  },
  {
   "cell_type": "markdown",
   "metadata": {
    "id": "Qw4lCyx2_qRI"
   },
   "source": [
    "6. Use a histogram to visualize the temperature column."
   ]
  },
  {
   "cell_type": "code",
   "execution_count": 32,
   "metadata": {
    "id": "Yg9Anv71_qRI"
   },
   "outputs": [
    {
     "data": {
      "image/png": "[encoded data removed]",
      "text/plain": [
       "<Figure size 800x500 with 1 Axes>"
      ]
     },
     "metadata": {},
     "output_type": "display_data"
    }
   ],
   "source": [
    "plt.figure(figsize=(8,5))\n",
    "plt.hist(cleanData['temperature'], color='salmon', edgecolor='black')\n",
    "plt.title('Distribution of Temperature')\n",
    "plt.xlabel('Temperature')\n",
    "plt.ylabel('Count')\n",
    "plt.savefig(\"pictures/distTemperature.png\")\n",
    "plt.show()\n"
   ]
  },
  {
   "cell_type": "markdown",
   "metadata": {
    "id": "FupfgeJk_qRJ"
   },
   "source": [
    "**Investigating the Bar Coupons**\n",
    "\n",
    "Now, we will lead you through an exploration of just the bar related coupons.  \n",
    "\n",
    "1. Create a new `DataFrame` that contains just the bar coupons.\n"
   ]
  },
  {
   "cell_type": "code",
   "execution_count": 33,
   "metadata": {
    "id": "tMBlWuGq_qRJ",
    "scrolled": true
   },
   "outputs": [
    {
     "data": {
      "text/html": [
       "<div>\n",
       "<style scoped>\n",
       "    .dataframe tbody tr th:only-of-type {\n",
       "        vertical-align: middle;\n",
       "    }\n",
       "\n",
       "    .dataframe tbody tr th {\n",
       "        vertical-align: top;\n",
       "    }\n",
       "\n",
       "    .dataframe thead th {\n",
       "        text-align: right;\n",
       "    }\n",
       "</style>\n",
       "<table border=\"1\" class=\"dataframe\">\n",
       "  <thead>\n",
       "    <tr style=\"text-align: right;\">\n",
       "      <th></th>\n",
       "      <th>destination</th>\n",
       "      <th>passanger</th>\n",
       "      <th>weather</th>\n",
       "      <th>temperature</th>\n",
       "      <th>time</th>\n",
       "      <th>coupon</th>\n",
       "      <th>expiration</th>\n",
       "      <th>gender</th>\n",
       "      <th>age</th>\n",
       "      <th>maritalStatus</th>\n",
       "      <th>has_children</th>\n",
       "      <th>education</th>\n",
       "      <th>occupation</th>\n",
       "      <th>income</th>\n",
       "      <th>car</th>\n",
       "      <th>Bar</th>\n",
       "      <th>CoffeeHouse</th>\n",
       "      <th>CarryAway</th>\n",
       "      <th>RestaurantLessThan20</th>\n",
       "      <th>Restaurant20To50</th>\n",
       "      <th>toCoupon_GEQ5min</th>\n",
       "      <th>toCoupon_GEQ15min</th>\n",
       "      <th>toCoupon_GEQ25min</th>\n",
       "      <th>direction_same</th>\n",
       "      <th>direction_opp</th>\n",
       "      <th>Y</th>\n",
       "    </tr>\n",
       "  </thead>\n",
       "  <tbody>\n",
       "    <tr>\n",
       "      <th>3083</th>\n",
       "      <td>Home</td>\n",
       "      <td>Alone</td>\n",
       "      <td>Sunny</td>\n",
       "      <td>55</td>\n",
       "      <td>6PM</td>\n",
       "      <td>Bar</td>\n",
       "      <td>1d</td>\n",
       "      <td>Male</td>\n",
       "      <td>26</td>\n",
       "      <td>Single</td>\n",
       "      <td>0</td>\n",
       "      <td>High School Graduate</td>\n",
       "      <td>Unemployed</td>\n",
       "      <td>$37500 - $49999</td>\n",
       "      <td>no</td>\n",
       "      <td>gt8</td>\n",
       "      <td>gt8</td>\n",
       "      <td>gt8</td>\n",
       "      <td>gt8</td>\n",
       "      <td>gt8</td>\n",
       "      <td>1</td>\n",
       "      <td>0</td>\n",
       "      <td>0</td>\n",
       "      <td>1</td>\n",
       "      <td>0</td>\n",
       "      <td>1</td>\n",
       "    </tr>\n",
       "    <tr>\n",
       "      <th>1712</th>\n",
       "      <td>Home</td>\n",
       "      <td>Alone</td>\n",
       "      <td>Sunny</td>\n",
       "      <td>55</td>\n",
       "      <td>6PM</td>\n",
       "      <td>Bar</td>\n",
       "      <td>1d</td>\n",
       "      <td>Female</td>\n",
       "      <td>26</td>\n",
       "      <td>Married partner</td>\n",
       "      <td>1</td>\n",
       "      <td>Some college - no degree</td>\n",
       "      <td>Unemployed</td>\n",
       "      <td>$50000 - $62499</td>\n",
       "      <td>no</td>\n",
       "      <td>never</td>\n",
       "      <td>less1</td>\n",
       "      <td>1~3</td>\n",
       "      <td>1~3</td>\n",
       "      <td>never</td>\n",
       "      <td>1</td>\n",
       "      <td>0</td>\n",
       "      <td>0</td>\n",
       "      <td>1</td>\n",
       "      <td>0</td>\n",
       "      <td>0</td>\n",
       "    </tr>\n",
       "    <tr>\n",
       "      <th>10951</th>\n",
       "      <td>No Urgent Place</td>\n",
       "      <td>Friend(s)</td>\n",
       "      <td>Sunny</td>\n",
       "      <td>80</td>\n",
       "      <td>10PM</td>\n",
       "      <td>Bar</td>\n",
       "      <td>1d</td>\n",
       "      <td>Female</td>\n",
       "      <td>31</td>\n",
       "      <td>Married partner</td>\n",
       "      <td>1</td>\n",
       "      <td>Bachelors degree</td>\n",
       "      <td>Student</td>\n",
       "      <td>$37500 - $49999</td>\n",
       "      <td>no</td>\n",
       "      <td>never</td>\n",
       "      <td>less1</td>\n",
       "      <td>gt8</td>\n",
       "      <td>4~8</td>\n",
       "      <td>less1</td>\n",
       "      <td>1</td>\n",
       "      <td>1</td>\n",
       "      <td>0</td>\n",
       "      <td>0</td>\n",
       "      <td>1</td>\n",
       "      <td>0</td>\n",
       "    </tr>\n",
       "    <tr>\n",
       "      <th>3998</th>\n",
       "      <td>No Urgent Place</td>\n",
       "      <td>Alone</td>\n",
       "      <td>Sunny</td>\n",
       "      <td>80</td>\n",
       "      <td>10AM</td>\n",
       "      <td>Bar</td>\n",
       "      <td>1d</td>\n",
       "      <td>Female</td>\n",
       "      <td>50plus</td>\n",
       "      <td>Married partner</td>\n",
       "      <td>1</td>\n",
       "      <td>Graduate degree (Masters or Doctorate)</td>\n",
       "      <td>Education&amp;Training&amp;Library</td>\n",
       "      <td>$100000 or More</td>\n",
       "      <td>no</td>\n",
       "      <td>4~8</td>\n",
       "      <td>gt8</td>\n",
       "      <td>4~8</td>\n",
       "      <td>4~8</td>\n",
       "      <td>4~8</td>\n",
       "      <td>1</td>\n",
       "      <td>0</td>\n",
       "      <td>0</td>\n",
       "      <td>0</td>\n",
       "      <td>1</td>\n",
       "      <td>1</td>\n",
       "    </tr>\n",
       "    <tr>\n",
       "      <th>11808</th>\n",
       "      <td>No Urgent Place</td>\n",
       "      <td>Alone</td>\n",
       "      <td>Rainy</td>\n",
       "      <td>55</td>\n",
       "      <td>10AM</td>\n",
       "      <td>Bar</td>\n",
       "      <td>1d</td>\n",
       "      <td>Male</td>\n",
       "      <td>36</td>\n",
       "      <td>Married partner</td>\n",
       "      <td>1</td>\n",
       "      <td>Associates degree</td>\n",
       "      <td>Computer &amp; Mathematical</td>\n",
       "      <td>$100000 or More</td>\n",
       "      <td>no</td>\n",
       "      <td>never</td>\n",
       "      <td>less1</td>\n",
       "      <td>4~8</td>\n",
       "      <td>1~3</td>\n",
       "      <td>less1</td>\n",
       "      <td>1</td>\n",
       "      <td>1</td>\n",
       "      <td>0</td>\n",
       "      <td>0</td>\n",
       "      <td>1</td>\n",
       "      <td>0</td>\n",
       "    </tr>\n",
       "    <tr>\n",
       "      <th>7671</th>\n",
       "      <td>No Urgent Place</td>\n",
       "      <td>Friend(s)</td>\n",
       "      <td>Rainy</td>\n",
       "      <td>55</td>\n",
       "      <td>10PM</td>\n",
       "      <td>Bar</td>\n",
       "      <td>2h</td>\n",
       "      <td>Male</td>\n",
       "      <td>36</td>\n",
       "      <td>Single</td>\n",
       "      <td>0</td>\n",
       "      <td>Some college - no degree</td>\n",
       "      <td>Construction &amp; Extraction</td>\n",
       "      <td>$50000 - $62499</td>\n",
       "      <td>no</td>\n",
       "      <td>never</td>\n",
       "      <td>never</td>\n",
       "      <td>1~3</td>\n",
       "      <td>less1</td>\n",
       "      <td>less1</td>\n",
       "      <td>1</td>\n",
       "      <td>1</td>\n",
       "      <td>0</td>\n",
       "      <td>0</td>\n",
       "      <td>1</td>\n",
       "      <td>0</td>\n",
       "    </tr>\n",
       "    <tr>\n",
       "      <th>11437</th>\n",
       "      <td>No Urgent Place</td>\n",
       "      <td>Alone</td>\n",
       "      <td>Rainy</td>\n",
       "      <td>55</td>\n",
       "      <td>10AM</td>\n",
       "      <td>Bar</td>\n",
       "      <td>1d</td>\n",
       "      <td>Male</td>\n",
       "      <td>31</td>\n",
       "      <td>Married partner</td>\n",
       "      <td>0</td>\n",
       "      <td>Bachelors degree</td>\n",
       "      <td>Sales &amp; Related</td>\n",
       "      <td>$75000 - $87499</td>\n",
       "      <td>no</td>\n",
       "      <td>1~3</td>\n",
       "      <td>1~3</td>\n",
       "      <td>4~8</td>\n",
       "      <td>4~8</td>\n",
       "      <td>4~8</td>\n",
       "      <td>1</td>\n",
       "      <td>1</td>\n",
       "      <td>0</td>\n",
       "      <td>0</td>\n",
       "      <td>1</td>\n",
       "      <td>1</td>\n",
       "    </tr>\n",
       "    <tr>\n",
       "      <th>10178</th>\n",
       "      <td>Home</td>\n",
       "      <td>Alone</td>\n",
       "      <td>Rainy</td>\n",
       "      <td>55</td>\n",
       "      <td>6PM</td>\n",
       "      <td>Bar</td>\n",
       "      <td>1d</td>\n",
       "      <td>Male</td>\n",
       "      <td>36</td>\n",
       "      <td>Married partner</td>\n",
       "      <td>1</td>\n",
       "      <td>Associates degree</td>\n",
       "      <td>Computer &amp; Mathematical</td>\n",
       "      <td>$100000 or More</td>\n",
       "      <td>no</td>\n",
       "      <td>never</td>\n",
       "      <td>less1</td>\n",
       "      <td>4~8</td>\n",
       "      <td>1~3</td>\n",
       "      <td>less1</td>\n",
       "      <td>1</td>\n",
       "      <td>1</td>\n",
       "      <td>1</td>\n",
       "      <td>0</td>\n",
       "      <td>1</td>\n",
       "      <td>0</td>\n",
       "    </tr>\n",
       "    <tr>\n",
       "      <th>1422</th>\n",
       "      <td>No Urgent Place</td>\n",
       "      <td>Kid(s)</td>\n",
       "      <td>Sunny</td>\n",
       "      <td>80</td>\n",
       "      <td>10AM</td>\n",
       "      <td>Bar</td>\n",
       "      <td>1d</td>\n",
       "      <td>Female</td>\n",
       "      <td>36</td>\n",
       "      <td>Married partner</td>\n",
       "      <td>1</td>\n",
       "      <td>Bachelors degree</td>\n",
       "      <td>Education&amp;Training&amp;Library</td>\n",
       "      <td>$87500 - $99999</td>\n",
       "      <td>no</td>\n",
       "      <td>less1</td>\n",
       "      <td>gt8</td>\n",
       "      <td>4~8</td>\n",
       "      <td>1~3</td>\n",
       "      <td>less1</td>\n",
       "      <td>1</td>\n",
       "      <td>1</td>\n",
       "      <td>0</td>\n",
       "      <td>0</td>\n",
       "      <td>1</td>\n",
       "      <td>0</td>\n",
       "    </tr>\n",
       "    <tr>\n",
       "      <th>11452</th>\n",
       "      <td>Work</td>\n",
       "      <td>Alone</td>\n",
       "      <td>Snowy</td>\n",
       "      <td>30</td>\n",
       "      <td>7AM</td>\n",
       "      <td>Bar</td>\n",
       "      <td>1d</td>\n",
       "      <td>Male</td>\n",
       "      <td>31</td>\n",
       "      <td>Married partner</td>\n",
       "      <td>0</td>\n",
       "      <td>Bachelors degree</td>\n",
       "      <td>Sales &amp; Related</td>\n",
       "      <td>$75000 - $87499</td>\n",
       "      <td>no</td>\n",
       "      <td>1~3</td>\n",
       "      <td>1~3</td>\n",
       "      <td>4~8</td>\n",
       "      <td>4~8</td>\n",
       "      <td>4~8</td>\n",
       "      <td>1</td>\n",
       "      <td>1</td>\n",
       "      <td>1</td>\n",
       "      <td>0</td>\n",
       "      <td>1</td>\n",
       "      <td>1</td>\n",
       "    </tr>\n",
       "  </tbody>\n",
       "</table>\n",
       "</div>"
      ],
      "text/plain": [
       "           destination  passanger weather  temperature  time coupon  \\\n",
       "3083              Home      Alone   Sunny           55   6PM    Bar   \n",
       "1712              Home      Alone   Sunny           55   6PM    Bar   \n",
       "10951  No Urgent Place  Friend(s)   Sunny           80  10PM    Bar   \n",
       "3998   No Urgent Place      Alone   Sunny           80  10AM    Bar   \n",
       "11808  No Urgent Place      Alone   Rainy           55  10AM    Bar   \n",
       "7671   No Urgent Place  Friend(s)   Rainy           55  10PM    Bar   \n",
       "11437  No Urgent Place      Alone   Rainy           55  10AM    Bar   \n",
       "10178             Home      Alone   Rainy           55   6PM    Bar   \n",
       "1422   No Urgent Place     Kid(s)   Sunny           80  10AM    Bar   \n",
       "11452             Work      Alone   Snowy           30   7AM    Bar   \n",
       "\n",
       "      expiration  gender     age    maritalStatus  has_children  \\\n",
       "3083          1d    Male      26           Single             0   \n",
       "1712          1d  Female      26  Married partner             1   \n",
       "10951         1d  Female      31  Married partner             1   \n",
       "3998          1d  Female  50plus  Married partner             1   \n",
       "11808         1d    Male      36  Married partner             1   \n",
       "7671          2h    Male      36           Single             0   \n",
       "11437         1d    Male      31  Married partner             0   \n",
       "10178         1d    Male      36  Married partner             1   \n",
       "1422          1d  Female      36  Married partner             1   \n",
       "11452         1d    Male      31  Married partner             0   \n",
       "\n",
       "                                    education                  occupation  \\\n",
       "3083                     High School Graduate                  Unemployed   \n",
       "1712                 Some college - no degree                  Unemployed   \n",
       "10951                        Bachelors degree                     Student   \n",
       "3998   Graduate degree (Masters or Doctorate)  Education&Training&Library   \n",
       "11808                       Associates degree     Computer & Mathematical   \n",
       "7671                 Some college - no degree   Construction & Extraction   \n",
       "11437                        Bachelors degree             Sales & Related   \n",
       "10178                       Associates degree     Computer & Mathematical   \n",
       "1422                         Bachelors degree  Education&Training&Library   \n",
       "11452                        Bachelors degree             Sales & Related   \n",
       "\n",
       "                income car    Bar CoffeeHouse CarryAway RestaurantLessThan20  \\\n",
       "3083   $37500 - $49999  no    gt8         gt8       gt8                  gt8   \n",
       "1712   $50000 - $62499  no  never       less1       1~3                  1~3   \n",
       "10951  $37500 - $49999  no  never       less1       gt8                  4~8   \n",
       "3998   $100000 or More  no    4~8         gt8       4~8                  4~8   \n",
       "11808  $100000 or More  no  never       less1       4~8                  1~3   \n",
       "7671   $50000 - $62499  no  never       never       1~3                less1   \n",
       "11437  $75000 - $87499  no    1~3         1~3       4~8                  4~8   \n",
       "10178  $100000 or More  no  never       less1       4~8                  1~3   \n",
       "1422   $87500 - $99999  no  less1         gt8       4~8                  1~3   \n",
       "11452  $75000 - $87499  no    1~3         1~3       4~8                  4~8   \n",
       "\n",
       "      Restaurant20To50  toCoupon_GEQ5min  toCoupon_GEQ15min  \\\n",
       "3083               gt8                 1                  0   \n",
       "1712             never                 1                  0   \n",
       "10951            less1                 1                  1   \n",
       "3998               4~8                 1                  0   \n",
       "11808            less1                 1                  1   \n",
       "7671             less1                 1                  1   \n",
       "11437              4~8                 1                  1   \n",
       "10178            less1                 1                  1   \n",
       "1422             less1                 1                  1   \n",
       "11452              4~8                 1                  1   \n",
       "\n",
       "       toCoupon_GEQ25min  direction_same  direction_opp  Y  \n",
       "3083                   0               1              0  1  \n",
       "1712                   0               1              0  0  \n",
       "10951                  0               0              1  0  \n",
       "3998                   0               0              1  1  \n",
       "11808                  0               0              1  0  \n",
       "7671                   0               0              1  0  \n",
       "11437                  0               0              1  1  \n",
       "10178                  1               0              1  0  \n",
       "1422                   0               0              1  0  \n",
       "11452                  1               0              1  1  "
      ]
     },
     "execution_count": 33,
     "metadata": {},
     "output_type": "execute_result"
    }
   ],
   "source": [
    "bcdf = cleanData[cleanData['coupon'] == 'Bar']\n",
    "bcdf.sample(10)\n"
   ]
  },
  {
   "cell_type": "markdown",
   "metadata": {},
   "source": [
    "#### Created a new dataframe 'bcdf' that contains only Bar coupons "
   ]
  },
  {
   "cell_type": "markdown",
   "metadata": {
    "id": "8ue6uCqf_qRJ"
   },
   "source": [
    "2. What proportion of bar coupons were accepted?\n"
   ]
  },
  {
   "cell_type": "markdown",
   "metadata": {},
   "source": [
    "###### Finding what % of bar coupons were accepted"
   ]
  },
  {
   "cell_type": "code",
   "execution_count": 34,
   "metadata": {
    "id": "hSdte8Mi_qRK"
   },
   "outputs": [
    {
     "name": "stdout",
     "output_type": "stream",
     "text": [
      "Bar Coupon Acceptance rate = 41.19 %\n"
     ]
    }
   ],
   "source": [
    "bcdf_accepted_percentage = bcdf['Y'].mean() * 100 \n",
    "bcdf_percentage = round(float(bcdf_accepted_percentage) ,2)\n",
    "print(\"Bar Coupon Acceptance rate =\" , bcdf_percentage ,\"%\")"
   ]
  },
  {
   "cell_type": "markdown",
   "metadata": {},
   "source": [
    "####  Bar Coupon Acceptance rate = 41.19 %"
   ]
  },
  {
   "cell_type": "markdown",
   "metadata": {
    "id": "85nA_iEi_qRK"
   },
   "source": [
    "3. Compare the acceptance rate between those who went to a bar 3 or fewer times a month to those who went more.\n"
   ]
  },
  {
   "cell_type": "code",
   "execution_count": 35,
   "metadata": {
    "id": "LBOrN-XM_qRK"
   },
   "outputs": [
    {
     "data": {
      "text/plain": [
       "array(['never', 'less1', '1~3', 'gt8', '4~8'], dtype=object)"
      ]
     },
     "execution_count": 35,
     "metadata": {},
     "output_type": "execute_result"
    }
   ],
   "source": [
    "bcdf['Bar'].unique()"
   ]
  },
  {
   "cell_type": "code",
   "execution_count": 36,
   "metadata": {},
   "outputs": [
    {
     "name": "stdout",
     "output_type": "stream",
     "text": [
      "193 1720\n"
     ]
    }
   ],
   "source": [
    "count_more = bcdf[bcdf['Bar'].isin(['gt8', '4~8'])].shape[0]\n",
    "count_less = bcdf[bcdf['Bar'].isin(['never', 'less1' , '1~3'])].shape[0]\n",
    "print(count_more , count_less)"
   ]
  },
  {
   "cell_type": "code",
   "execution_count": 37,
   "metadata": {},
   "outputs": [
    {
     "name": "stdout",
     "output_type": "stream",
     "text": [
      "Percentage of those who accepted the coupon among Frequent Visitors : 76.17%\n"
     ]
    }
   ],
   "source": [
    "filtered = bcdf[bcdf['Bar'].isin(['gt8', '4~8'])]\n",
    "percent_y1 = (filtered['Y'].mean()) * 100\n",
    "print(f\"Percentage of those who accepted the coupon among Frequent Visitors : {percent_y1:.2f}%\")"
   ]
  },
  {
   "cell_type": "code",
   "execution_count": 38,
   "metadata": {},
   "outputs": [
    {
     "name": "stdout",
     "output_type": "stream",
     "text": [
      "Percentage of those who accepted the coupon among non-frequest visitors : 37.27%\n"
     ]
    }
   ],
   "source": [
    "filtered_less = bcdf[bcdf['Bar'].isin(['never', 'less1' , '1~3'])]\n",
    "percent_y1_less = (filtered_less['Y'].mean()) * 100\n",
    "print(f\"Percentage of those who accepted the coupon among non-frequest visitors : {percent_y1_less:.2f}%\")"
   ]
  },
  {
   "cell_type": "markdown",
   "metadata": {},
   "source": [
    "##### 76.17% of those who GO to the bar more frequently accepted the coupon , where as \n",
    "##### 37.27% of those who DONOT GO  to the bar frequently accepted the coupon."
   ]
  },
  {
   "cell_type": "markdown",
   "metadata": {
    "id": "RBgcQwH4_qRK"
   },
   "source": [
    "4. Compare the acceptance rate between drivers who go to a bar more than once a month and are over the age of 25 to the all others.  Is there a difference?\n"
   ]
  },
  {
   "cell_type": "code",
   "execution_count": 39,
   "metadata": {
    "id": "bf28bbeX_qRK"
   },
   "outputs": [
    {
     "data": {
      "text/plain": [
       "array(['Friend(s)', 'Alone', 'Partner', 'Kid(s)'], dtype=object)"
      ]
     },
     "execution_count": 39,
     "metadata": {},
     "output_type": "execute_result"
    }
   ],
   "source": [
    "filtered_morethan1 = bcdf[bcdf['Bar'].isin(['gt8', '4~8', '1~3'])]\n",
    "filtered_morethan1['passanger'].unique()"
   ]
  },
  {
   "cell_type": "code",
   "execution_count": 40,
   "metadata": {},
   "outputs": [
    {
     "name": "stdout",
     "output_type": "stream",
     "text": [
      "Coupon Accepted and Age > 25 :   278\n",
      "Coupon Denied and Age > 25    : 125\n",
      "Coupon Accepted and Age < 25 :  114\n",
      "Coupon Denied and Age < 25   :  55\n",
      "68.98263027295285 % of people > age 25 accepted the coupon\n",
      "67.45562130177515 % of people < age 25 accepted the coupon\n"
     ]
    }
   ],
   "source": [
    "count_y1_morethan25 = filtered_morethan1[ (filtered_morethan1['Y'] == 1) & (filtered_morethan1['age'].isin(['26', '31', '50plus', '41', '36', '46']))].shape[0]\n",
    "count_y0_morethan25 = filtered_morethan1[ (filtered_morethan1['Y'] == 0) & (filtered_morethan1['age'].isin(['26', '31', '50plus', '41', '36', '46']))].shape[0]\n",
    "count_y1_lessthan25 = filtered_morethan1[ (filtered_morethan1['Y'] == 1) & (filtered_morethan1['age'].isin(['21', 'below21']))].shape[0]\n",
    "count_y0_lessthan25 = filtered_morethan1[ (filtered_morethan1['Y'] == 0) & (filtered_morethan1['age'].isin(['21', 'below21']))].shape[0]\n",
    "print( \"Coupon Accepted and Age > 25 :  \" , count_y1_morethan25)\n",
    "print(\"Coupon Denied and Age > 25    :\" , count_y0_morethan25 )\n",
    "print( \"Coupon Accepted and Age < 25 : \" , count_y1_lessthan25)\n",
    "print( \"Coupon Denied and Age < 25   : \" , count_y0_lessthan25)\n",
    "print( count_y1_morethan25/(count_y1_morethan25 + count_y0_morethan25) *100 , \"% of people > age 25 accepted the coupon\" )\n",
    "print( count_y1_lessthan25/(count_y1_lessthan25+count_y0_lessthan25) * 100 , \"% of people < age 25 accepted the coupon\" )\n"
   ]
  },
  {
   "cell_type": "markdown",
   "metadata": {},
   "source": [
    "#### 68.93 % of people above 25 years accepted the coupon \n",
    "#### 67.45 % of people less than 25 years accepted the coupon. \n",
    "#### The age > 25 or age < 25 doesnt seem to be a major factor. "
   ]
  },
  {
   "cell_type": "markdown",
   "metadata": {
    "id": "S4RKT4PJ_qRK"
   },
   "source": [
    "5. Use the same process to compare the acceptance rate between drivers who go to bars more than once a month and had passengers that were not a kid and had occupations other than farming, fishing, or forestry.\n"
   ]
  },
  {
   "cell_type": "markdown",
   "metadata": {},
   "source": [
    "For this question , we can use the same dataframe we used above , \"filtered_morethan1\". \n",
    "On this we must apply the filters for \"occupation NOT-EQUAL-TO farming , fishing , forestry\"  \n",
    "and \"passanger NOT-EQUAL-TO alone , Kid(s) . \n",
    "We did not consider the age here. "
   ]
  },
  {
   "cell_type": "code",
   "execution_count": 41,
   "metadata": {
    "id": "sENaI2Tg_qRK"
   },
   "outputs": [
    {
     "name": "stdout",
     "output_type": "stream",
     "text": [
      " % =  71.42857142857143\n"
     ]
    }
   ],
   "source": [
    "count_y1_passNotKid_otherOCC = filtered_morethan1[ (filtered_morethan1['Y'] == 1) & (~filtered_morethan1['passanger'].isin(['Kid(s)', 'Alone'])) & (~filtered_morethan1['occupation'].isin(['farming', 'fishing' , 'forestry']))].shape[0]\n",
    "count_y0_passNotKid_otherOCC = filtered_morethan1[ (filtered_morethan1['Y'] == 0) & (~filtered_morethan1['passanger'].isin(['Kid(s)', 'Alone'])) & (~filtered_morethan1['occupation'].isin(['farming', 'fishing' , 'forestry']))].shape[0]\n",
    "print(\" % = \" , count_y1_passNotKid_otherOCC / (count_y1_passNotKid_otherOCC + count_y0_passNotKid_otherOCC) * 100 )"
   ]
  },
  {
   "cell_type": "markdown",
   "metadata": {},
   "source": [
    "######  We can determine that Coupon Acceptance rate for \n",
    " - Divers who go to bars more than once a month \n",
    " - and who had a passenger , but not a KID as a passanger \n",
    "- and whose occupation is not farming , fishing , forestry \n",
    "\n",
    "###### = 71.42 % "
   ]
  },
  {
   "cell_type": "markdown",
   "metadata": {
    "id": "n2LIUTil_qRK"
   },
   "source": [
    "6. Compare the acceptance rates between those drivers who:\n",
    "\n",
    "- go to bars more than once a month, had passengers that were not a kid, and were not widowed *OR*\n",
    "- go to bars more than once a month and are under the age of 30 *OR*\n",
    "- go to cheap restaurants more than 4 times a month and income is less than 50K.\n",
    "\n"
   ]
  },
  {
   "cell_type": "code",
   "execution_count": 42,
   "metadata": {
    "id": "aK_wEzx7_qRK"
   },
   "outputs": [
    {
     "name": "stdout",
     "output_type": "stream",
     "text": [
      "% of drivers that accepted the coupoun who had passengers that were not a kid, and were not widowed =  71.42857142857143\n",
      "% of drivers that accepted the coupoun and are under the age of 30 = 63.934426229508205\n",
      "% of drivers that accepted the coupon who go to cheap restaurants more than 4 times a month and income is less than 50K = 57.62%\n"
     ]
    }
   ],
   "source": [
    "# Finding go to bars more than once a month, had passengers that were not a kid, and were not widowed\n",
    "count_y1_notwidowed = filtered_morethan1[ (filtered_morethan1['Y'] == 1) & (~filtered_morethan1['passanger'].isin(['Kid(s)', 'Alone'])) ].shape[0]\n",
    "count_y0_notwidowed = filtered_morethan1[ (filtered_morethan1['Y'] == 0) & (~filtered_morethan1['passanger'].isin(['Kid(s)', 'Alone'])) ].shape[0]\n",
    "print( \"% of drivers that accepted the coupoun who had passengers that were not a kid, and were not widowed = \",  count_y1_notwidowed / (count_y1_notwidowed + count_y0_notwidowed ) * 100 )\n",
    "#print(filtered_morethan1['maritalStatus'].unique())\n",
    "\n",
    "# go to bars more than once a month and are under the age of 30 \n",
    "count_y1_less30 = filtered_morethan1[ (filtered_morethan1['Y'] == 1) & (~filtered_morethan1['age'].isin(['21', '26' ,'below21' ] ) ) ].shape[0]\n",
    "count_y0_less30 = filtered_morethan1[ (filtered_morethan1['Y'] == 0 ) & (~filtered_morethan1['age'].isin(['21', '26' ,'below21'])) ].shape[0]\n",
    "print (f\"% of drivers that accepted the coupoun and are under the age of 30 =\" , count_y1_less30 / (count_y1_less30  + count_y0_less30) * 100 )\n",
    "#filtered_morethan1['age'].unique()\n",
    "\n",
    "# go to cheap restaurants more than 4 times a month and income is less than 50K \n",
    "# Filter: cheap restaurants > 4 times a month AND income < $50K\n",
    "cheapRest = cleanData[(cleanData[\"RestaurantLessThan20\"].isin([\"4~8\", \"greater than 8\"])) & (cleanData[\"income\"].isin([\"Less than $12500\", \"$12500 - $24999\", \"$25000 - $37499\", \"$37500 - $49999\"]))]\n",
    "\n",
    "# Calculate coupon acceptance rate\n",
    "acceptance_rate = cheapRest[\"Y\"].mean() * 100\n",
    "\n",
    "print(f\"% of drivers that accepted the coupon who go to cheap restaurants more than 4 times a month and income is less than 50K = {acceptance_rate:.2f}%\")\n"
   ]
  },
  {
   "cell_type": "markdown",
   "metadata": {},
   "source": [
    "##### Let us represent the last data visually. "
   ]
  },
  {
   "cell_type": "code",
   "execution_count": 43,
   "metadata": {},
   "outputs": [
    {
     "data": {
      "image/png": "[encoded data removed]",
      "text/plain": [
       "<Figure size 640x480 with 1 Axes>"
      ]
     },
     "metadata": {},
     "output_type": "display_data"
    }
   ],
   "source": [
    "# Filter for \"cheap restaurant > 4 times a month\" AND \"income < 50K\"\n",
    "cheap_restaurant_filter = cleanData[\"RestaurantLessThan20\"].isin([\"4~8\", \"greater than 8\"])\n",
    "low_income_filter = cleanData[\"income\"].isin([ \"Less than $12500\",  \"$12500 - $24999\",   \"$25000 - $37499\",  \"$37500 - $49999\"])\n",
    "\n",
    "# Create a new column for the group\n",
    "cleanData[\"Group\"] = \"Others\"\n",
    "cleanData.loc[cheap_restaurant_filter & low_income_filter, \"Group\"] = \"CheapRestaurant>4 & Income<50K\"\n",
    "\n",
    "# Calculate acceptance rate by group\n",
    "acceptance_rates = cleanData.groupby(\"Group\")[\"Y\"].mean().reset_index()\n",
    "acceptance_rates[\"AcceptanceRate(%)\"] = acceptance_rates[\"Y\"] * 100\n",
    "\n",
    "# Plot\n",
    "ax = sns.barplot(\n",
    "    data=acceptance_rates,\n",
    "    x=\"Group\",\n",
    "    y=\"AcceptanceRate(%)\",\n",
    "    hue=\"Group\",\n",
    "    palette=\"Set2\"\n",
    ")\n",
    "\n",
    "# Add value labels on top of each bar\n",
    "for container in ax.containers:\n",
    "    ax.bar_label(container, fmt=\"%.1f%%\", label_type=\"edge\", padding=3)\n",
    "\n",
    "plt.title(\"Coupon Acceptance Rate Comparison for low income\")\n",
    "plt.ylabel(\"Acceptance Rate (%)\")\n",
    "plt.xlabel(\"\")\n",
    "plt.xticks(rotation=15)\n",
    "plt.ylim(0, 100)\n",
    "plt.savefig(\"./pictures/coupAccpCheap.png\")\n",
    "plt.show()\n"
   ]
  },
  {
   "cell_type": "markdown",
   "metadata": {
    "id": "v3fL3QkO_qRK"
   },
   "source": [
    "7.  Based on these observations, what do you hypothesize about drivers who accepted the bar coupons?"
   ]
  },
  {
   "cell_type": "markdown",
   "metadata": {
    "id": "Y48naDFh_qRL"
   },
   "source": [
    "\n",
    "### Findings\n",
    "- Overall acceptance rate for coupons is about 57 %\n",
    "- Acceptance of Bar Coupon is about 41 %\n",
    "- Frequency of visits matters a lot.\n",
    "   -- People who go to bars more often are much more likely to accept coupons. \n",
    "   -- Frequent visitors accepted 76% of bar coupons\n",
    "- Those not having a kid in the car is car are more likely to accept the coupon.\n",
    "   --  71 % acceptance here.\n",
    "- Those with lower income, and frequently visit less expensive restaurants, \n",
    "  are as likely to accept the coupon as those with higher income but go less frequently.\n",
    "\n"
   ]
  },
  {
   "cell_type": "markdown",
   "metadata": {},
   "source": [
    "### Summary \n",
    "#### In this project, the CRISP-DM framework was applied to analyze the data. \n",
    "1. The business objective - Determine the coupon acceptance rate. \n",
    "2. Understanding the data - Look at the header, understand data available. \n",
    "3. Data Preparation - Cleaning up data, ( removing null data, creating a new dataframe with required data)\n",
    "    4.77% of the given data was lost in the clean up. \n",
    "4. Modelling - Selecting the parameters to filter data and run analysis. \n",
    "5. Evaluation & Deployment - Future work. \n",
    "\n",
    "The CRISP-DM methodology provided a structured and iterative approach to guide the entire \n",
    "data science process — from understanding the business objective of predicting coupon acceptance, \n",
    "to exploring and preparing the data. By following this framework, the analysis was systematic.\n",
    "\n"
   ]
  },
  {
   "cell_type": "code",
   "execution_count": null,
   "metadata": {},
   "outputs": [],
   "source": []
  },
  {
   "cell_type": "code",
   "execution_count": null,
   "metadata": {},
   "outputs": [],
   "source": []
  },
  {
   "cell_type": "code",
   "execution_count": null,
   "metadata": {},
   "outputs": [],
   "source": []
  },
  {
   "cell_type": "code",
   "execution_count": null,
   "metadata": {},
   "outputs": [],
   "source": []
  },
  {
   "cell_type": "code",
   "execution_count": null,
   "metadata": {},
   "outputs": [],
   "source": []
  },
  {
   "cell_type": "code",
   "execution_count": null,
   "metadata": {},
   "outputs": [],
   "source": []
  },
  {
   "cell_type": "code",
   "execution_count": null,
   "metadata": {},
   "outputs": [],
   "source": []
  }
 ],
 "metadata": {
  "colab": {
   "provenance": []
  },
  "kernelspec": {
   "display_name": "Python [conda env:base] *",
   "language": "python",
   "name": "conda-base-py"
  },
  "language_info": {
   "codemirror_mode": {
    "name": "ipython",
    "version": 3
   },
   "file_extension": ".py",
   "mimetype": "text/x-python",
   "name": "python",
   "nbconvert_exporter": "python",
   "pygments_lexer": "ipython3",
   "version": "3.13.5"
  }
 },
 "nbformat": 4,
 "nbformat_minor": 4
}
